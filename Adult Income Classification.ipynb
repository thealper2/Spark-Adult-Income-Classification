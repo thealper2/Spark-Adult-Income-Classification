{
 "cells": [
  {
   "cell_type": "code",
   "execution_count": null,
   "id": "658b544e",
   "metadata": {},
   "outputs": [],
   "source": [
    "import findspark\n",
    "findspark.init()"
   ]
  },
  {
   "cell_type": "code",
   "execution_count": null,
   "id": "3ac12b81",
   "metadata": {},
   "outputs": [],
   "source": [
    "from pyspark.sql import SparkSession\n",
    "\n",
    "spark = SparkSession.builder \\\n",
    ".master(\"local[4]\") \\\n",
    ".appName(\"AdultIncomeClassification\") \\\n",
    ".config(\"spark.executor.memory\", \"1g\") \\\n",
    ".config(\"spark.driver.memory\", \"1g\") \\\n",
    ".getOrCreate()"
   ]
  },
  {
   "cell_type": "code",
   "execution_count": null,
   "id": "537fda9d",
   "metadata": {},
   "outputs": [],
   "source": [
    "adult = spark.read \\\n",
    ".option(\"header\", True) \\\n",
    ".option(\"inferSchema\", True) \\\n",
    ".option(\"sep\", \",\") \\\n",
    ".csv(\"/home/alper/Spark/data/adult.csv\")"
   ]
  },
  {
   "cell_type": "code",
   "execution_count": null,
   "id": "370e4811",
   "metadata": {},
   "outputs": [],
   "source": [
    "adult.limit(5).toPandas().head()"
   ]
  },
  {
   "cell_type": "code",
   "execution_count": null,
   "id": "1d9dcb06",
   "metadata": {},
   "outputs": [],
   "source": [
    "adult.count()"
   ]
  },
  {
   "cell_type": "code",
   "execution_count": null,
   "id": "9b8de820",
   "metadata": {},
   "outputs": [],
   "source": [
    "adult.printSchema()"
   ]
  },
  {
   "cell_type": "code",
   "execution_count": null,
   "id": "4fa8649c",
   "metadata": {},
   "outputs": [],
   "source": [
    "col_names = [\"age\", \"workclass\", \"fnlwgt\", \"education\", \"education_num\", \"marital_status\",\n",
    "             \"occupation\", \"relationship\", \"race\", \"sex\", \"capital_gain\", \"capital_loss\",\n",
    "             \"hours_per_week\", \"native_country\", \"income\"]"
   ]
  },
  {
   "cell_type": "code",
   "execution_count": null,
   "id": "a4b0fb64",
   "metadata": {},
   "outputs": [],
   "source": [
    "adult = adult.toDF(*col_names)"
   ]
  },
  {
   "cell_type": "code",
   "execution_count": null,
   "id": "bf93b402",
   "metadata": {},
   "outputs": [],
   "source": [
    "numeric = [\"age\", \"fnlwgt\", \"education_num\", \"capital_gain\", \"capital_loss\", \"hours_per_week\"]"
   ]
  },
  {
   "cell_type": "code",
   "execution_count": null,
   "id": "e3bf3884",
   "metadata": {},
   "outputs": [],
   "source": [
    "categorical = [\"workclass\", \"education\", \"marital_status\", \"occupation\", \n",
    "               \"relationship\", \"race\", \"sex\", \"native_country\", \"income\"]"
   ]
  },
  {
   "cell_type": "code",
   "execution_count": null,
   "id": "afb08501",
   "metadata": {},
   "outputs": [],
   "source": [
    "adult.describe(numeric).toPandas()"
   ]
  },
  {
   "cell_type": "code",
   "execution_count": null,
   "id": "141fc0a2",
   "metadata": {},
   "outputs": [],
   "source": [
    "from pyspark.sql import functions as F"
   ]
  },
  {
   "cell_type": "code",
   "execution_count": null,
   "id": "38d06012",
   "metadata": {},
   "outputs": [],
   "source": [
    "adult.groupBy(F.col(\"workclass\")).agg({\"*\": \"count\"}).toPandas()"
   ]
  },
  {
   "cell_type": "code",
   "execution_count": null,
   "id": "ec0014ab",
   "metadata": {},
   "outputs": [],
   "source": [
    "adult.groupBy(F.col(\"education\")).agg({\"*\": \"count\"}).toPandas()"
   ]
  },
  {
   "cell_type": "code",
   "execution_count": null,
   "id": "ea469f33",
   "metadata": {},
   "outputs": [],
   "source": [
    "adult.groupBy(F.col(\"marital_status\")).agg({\"*\": \"count\"}).toPandas()"
   ]
  },
  {
   "cell_type": "code",
   "execution_count": null,
   "id": "de18a7e4",
   "metadata": {},
   "outputs": [],
   "source": [
    "adult.groupBy(F.col(\"occupation\")).agg({\"*\": \"count\"}).toPandas()"
   ]
  },
  {
   "cell_type": "code",
   "execution_count": null,
   "id": "c247029d",
   "metadata": {},
   "outputs": [],
   "source": [
    "adult.groupBy(F.col(\"relationship\")).agg({\"*\": \"count\"}).toPandas()"
   ]
  },
  {
   "cell_type": "code",
   "execution_count": null,
   "id": "b86b6c1c",
   "metadata": {},
   "outputs": [],
   "source": [
    "adult.groupBy(F.col(\"race\")).agg({\"*\": \"count\"}).toPandas()"
   ]
  },
  {
   "cell_type": "code",
   "execution_count": null,
   "id": "61a04307",
   "metadata": {},
   "outputs": [],
   "source": [
    "adult.groupBy(F.col(\"sex\")).agg({\"*\": \"count\"}).toPandas()"
   ]
  },
  {
   "cell_type": "code",
   "execution_count": null,
   "id": "b810d207",
   "metadata": {},
   "outputs": [],
   "source": [
    "adult.groupBy(F.col(\"native_country\")).agg({\"*\": \"count\"}).toPandas()"
   ]
  },
  {
   "cell_type": "code",
   "execution_count": null,
   "id": "d9fad711",
   "metadata": {},
   "outputs": [],
   "source": [
    "adult.groupBy(F.col(\"income\")).agg({\"*\": \"count\"}).toPandas()"
   ]
  },
  {
   "cell_type": "code",
   "execution_count": null,
   "id": "15c06cb9",
   "metadata": {},
   "outputs": [],
   "source": [
    "# Trim (Bosluk Kontrolu)\n",
    "adult = adult \\\n",
    ".withColumn(\"workclass\", F.trim(F.col(\"workclass\"))) \\\n",
    ".withColumn(\"education\", F.trim(F.col(\"education\"))) \\\n",
    ".withColumn(\"marital_status\", F.trim(F.col(\"marital_status\"))) \\\n",
    ".withColumn(\"occupation\", F.trim(F.col(\"occupation\"))) \\\n",
    ".withColumn(\"relationship\", F.trim(F.col(\"relationship\"))) \\\n",
    ".withColumn(\"race\", F.trim(F.col(\"race\"))) \\\n",
    ".withColumn(\"sex\", F.trim(F.col(\"sex\"))) \\\n",
    ".withColumn(\"native_country\", F.trim(F.col(\"native_country\"))) \\\n",
    ".withColumn(\"income\", F.trim(F.col(\"income\"))) "
   ]
  },
  {
   "cell_type": "code",
   "execution_count": null,
   "id": "f2aa9b72",
   "metadata": {},
   "outputs": [],
   "source": [
    "adult.count()"
   ]
  },
  {
   "cell_type": "code",
   "execution_count": null,
   "id": "906de630",
   "metadata": {},
   "outputs": [],
   "source": [
    "null_count = 1\n",
    "for column in adult.columns:\n",
    "    if (adult.filter(F.col(column).isNull()).count() > 0):\n",
    "        print(null_count, \". \", column, \" has null.\")\n",
    "    else:\n",
    "        print(null_count, \". \", column)\n",
    "        \n",
    "    null_count += 1"
   ]
  },
  {
   "cell_type": "code",
   "execution_count": null,
   "id": "7f874a6f",
   "metadata": {},
   "outputs": [],
   "source": [
    "unknown_count = 1\n",
    "for column in adult.columns:\n",
    "    if (adult.filter(F.col(column).contains(\"?\")).count() > 0):\n",
    "        print(unknown_count, \". \", column, \" has unknown.\")\n",
    "    else:\n",
    "        print(unknown_count, \". \", column)\n",
    "        \n",
    "    unknown_count += 1"
   ]
  },
  {
   "cell_type": "code",
   "execution_count": null,
   "id": "48f34251",
   "metadata": {},
   "outputs": [],
   "source": [
    "adult.select(\"workclass\", \"occupation\", \"native_country\") \\\n",
    ".filter(\n",
    "    F.col(\"workclass\").contains(\"?\") | \n",
    "    F.col(\"occupation\").contains(\"?\") | \n",
    "    F.col(\"native_country\").contains(\"?\")) \\\n",
    ".groupBy(\"workclass\", \"occupation\", \"native_country\").count() \\\n",
    ".orderBy(F.col(\"count\").desc()) \\\n",
    ".toPandas().head(50)"
   ]
  },
  {
   "cell_type": "code",
   "execution_count": null,
   "id": "8c926f46",
   "metadata": {},
   "outputs": [],
   "source": [
    "adult.count()"
   ]
  },
  {
   "cell_type": "code",
   "execution_count": null,
   "id": "1cd4e029",
   "metadata": {},
   "outputs": [],
   "source": [
    "adult = adult.filter(~(\n",
    "    F.col(\"workclass\").contains(\"?\") |\n",
    "    F.col(\"occupation\").contains(\"?\") |\n",
    "    F.col(\"native_country\").contains(\"?\")\n",
    "))\n",
    "\n",
    "adult.count()"
   ]
  },
  {
   "cell_type": "code",
   "execution_count": null,
   "id": "67ad2f2b",
   "metadata": {},
   "outputs": [],
   "source": [
    "32561 - 30162"
   ]
  },
  {
   "cell_type": "code",
   "execution_count": null,
   "id": "d01a9385",
   "metadata": {},
   "outputs": [],
   "source": [
    "adult = adult.filter(~(\n",
    "    F.col(\"workclass\").contains(\"never-worked\") | \n",
    "    F.col(\"workclass\").contains(\"without-pay\") |\n",
    "    F.col(\"occupation\").contains(\"Armed-Forces\") |\n",
    "    F.col(\"native_country\").contains(\"Holand-Netherlands\")\n",
    "))\n",
    "\n",
    "adult.count()"
   ]
  },
  {
   "cell_type": "code",
   "execution_count": null,
   "id": "86d7d30b",
   "metadata": {},
   "outputs": [],
   "source": [
    "30162 - 30152"
   ]
  },
  {
   "cell_type": "code",
   "execution_count": null,
   "id": "e2290ebf",
   "metadata": {},
   "outputs": [],
   "source": [
    "adult = adult.withColumn(\"education_merged\",\n",
    "F.when(F.col(\"education\").isin(\"1st-4th\", \"5th-6th\", \"7th-8th\"), \"Elementary-School\") \n",
    ".when(F.col(\"education\").isin(\"9th\", \"10th\", \"11th\", \"12th\"), \"High-School\") \n",
    ".when(F.col(\"education\").isin(\"Masters\", \"Doctorate\"), \"Postgraduate\")\n",
    ".when(F.col(\"education\").isin(\"Bachelors\", \"Some-college\"), \"Undergraduate\")\n",
    ".otherwise(F.col(\"education\")))"
   ]
  },
  {
   "cell_type": "code",
   "execution_count": null,
   "id": "cae6b3dc",
   "metadata": {},
   "outputs": [],
   "source": [
    "adult.select(\"education\", \"education_merged\").toPandas().head(10)"
   ]
  },
  {
   "cell_type": "code",
   "execution_count": null,
   "id": "7707299d",
   "metadata": {},
   "outputs": [],
   "source": [
    "orders = [\"workclass\", \"education\", \"education_merged\", \"marital_status\", \"occupation\", \"relationship\",\n",
    "          \"race\", \"sex\", \"native_country\", \"age\", \"fnlwgt\", \"education_num\", \"capital_gain\", \"capital_loss\",\n",
    "          \"hours_per_week\", \"income\"]"
   ]
  },
  {
   "cell_type": "code",
   "execution_count": null,
   "id": "52705e8c",
   "metadata": {},
   "outputs": [],
   "source": [
    "adult = adult.select(orders)\n",
    "adult.toPandas().head(10)"
   ]
  },
  {
   "cell_type": "code",
   "execution_count": null,
   "id": "8fb78d3d",
   "metadata": {},
   "outputs": [],
   "source": [
    "from pyspark.ml.feature import StringIndexer, OneHotEncoder, VectorAssembler, StandardScaler"
   ]
  },
  {
   "cell_type": "code",
   "execution_count": null,
   "id": "62277fc8",
   "metadata": {},
   "outputs": [],
   "source": [
    "categorical"
   ]
  },
  {
   "cell_type": "code",
   "execution_count": null,
   "id": "a740e5a6",
   "metadata": {},
   "outputs": [],
   "source": [
    "workclass_indexer = StringIndexer() \\\n",
    ".setInputCol(\"workclass\") \\\n",
    ".setOutputCol(\"workclass_index\") \\\n",
    ".setHandleInvalid(\"skip\")"
   ]
  },
  {
   "cell_type": "code",
   "execution_count": null,
   "id": "852c6ce0",
   "metadata": {},
   "outputs": [],
   "source": [
    "education_merged_indexer = StringIndexer() \\\n",
    ".setInputCol(\"education_merged\") \\\n",
    ".setOutputCol(\"education_merged_index\") \\\n",
    ".setHandleInvalid(\"skip\")"
   ]
  },
  {
   "cell_type": "code",
   "execution_count": null,
   "id": "9d792676",
   "metadata": {},
   "outputs": [],
   "source": [
    "marital_status_indexer = StringIndexer() \\\n",
    ".setInputCol(\"marital_status\") \\\n",
    ".setOutputCol(\"marital_status_index\") \\\n",
    ".setHandleInvalid(\"skip\")"
   ]
  },
  {
   "cell_type": "code",
   "execution_count": null,
   "id": "1e6a86fd",
   "metadata": {},
   "outputs": [],
   "source": [
    "occupation_indexer = StringIndexer() \\\n",
    ".setInputCol(\"occupation\") \\\n",
    ".setOutputCol(\"occupation_index\") \\\n",
    ".setHandleInvalid(\"skip\")"
   ]
  },
  {
   "cell_type": "code",
   "execution_count": null,
   "id": "2d7b0142",
   "metadata": {},
   "outputs": [],
   "source": [
    "relationship_indexer = StringIndexer() \\\n",
    ".setInputCol(\"relationship\") \\\n",
    ".setOutputCol(\"relationship_index\") \\\n",
    ".setHandleInvalid(\"skip\")"
   ]
  },
  {
   "cell_type": "code",
   "execution_count": null,
   "id": "922f5846",
   "metadata": {},
   "outputs": [],
   "source": [
    "race_indexer = StringIndexer() \\\n",
    ".setInputCol(\"race\") \\\n",
    ".setOutputCol(\"race_index\") \\\n",
    ".setHandleInvalid(\"skip\")"
   ]
  },
  {
   "cell_type": "code",
   "execution_count": null,
   "id": "d08c509a",
   "metadata": {},
   "outputs": [],
   "source": [
    "native_country_indexer = StringIndexer() \\\n",
    ".setInputCol(\"native_country\") \\\n",
    ".setOutputCol(\"native_country_index\") \\\n",
    ".setHandleInvalid(\"skip\")"
   ]
  },
  {
   "cell_type": "code",
   "execution_count": null,
   "id": "9dbd71da",
   "metadata": {},
   "outputs": [],
   "source": [
    "encoder = OneHotEncoder() \\\n",
    ".setInputCols([\"workclass_index\", \"education_merged_index\", \"marital_status_index\", \"occupation_index\",\n",
    "               \"relationship_index\", \"race_index\", \"native_country_index\"]) \\\n",
    ".setOutputCols([\"workclass_index_enc\", \"education_merged_index_enc\", \"marital_status_index_enc\",\n",
    "                \"occupation_index_enc\", \"relationship_index_enc\", \"race_index_enc\", \n",
    "                \"native_country_index_enc\"])"
   ]
  },
  {
   "cell_type": "code",
   "execution_count": null,
   "id": "556f67dd",
   "metadata": {},
   "outputs": [],
   "source": [
    "features_list = [\"workclass_index_enc\", \"education_merged_index_enc\", \"marital_status_index_enc\",\n",
    "                 \"occupation_index_enc\", \"relationship_index_enc\", \"race_index_enc\", \n",
    "                 \"native_country_index_enc\", \"age\", \"fnlwgt\", \"education_num\", \"capital_gain\",\n",
    "                 \"capital_loss\", \"hours_per_week\"]"
   ]
  },
  {
   "cell_type": "code",
   "execution_count": null,
   "id": "870c187b",
   "metadata": {},
   "outputs": [],
   "source": [
    "assembler = VectorAssembler() \\\n",
    ".setInputCols(features_list) \\\n",
    ".setOutputCol(\"vectorized_features\")"
   ]
  },
  {
   "cell_type": "code",
   "execution_count": null,
   "id": "cce527ba",
   "metadata": {},
   "outputs": [],
   "source": [
    "label_indexer = StringIndexer() \\\n",
    ".setInputCol(\"income\") \\\n",
    ".setOutputCol(\"label\")"
   ]
  },
  {
   "cell_type": "code",
   "execution_count": null,
   "id": "bba67cf0",
   "metadata": {},
   "outputs": [],
   "source": [
    "scaler = StandardScaler() \\\n",
    ".setInputCol(\"vectorized_features\") \\\n",
    ".setOutputCol(\"features\")"
   ]
  },
  {
   "cell_type": "code",
   "execution_count": null,
   "id": "9a69db2c",
   "metadata": {},
   "outputs": [],
   "source": [
    "from pyspark.ml.classification import LogisticRegression"
   ]
  },
  {
   "cell_type": "code",
   "execution_count": null,
   "id": "6fff33d5",
   "metadata": {},
   "outputs": [],
   "source": [
    "logreg_object = LogisticRegression() \\\n",
    ".setFeaturesCol(\"features\") \\\n",
    ".setLabelCol(\"label\") \\\n",
    ".setPredictionCol(\"prediction\")"
   ]
  },
  {
   "cell_type": "code",
   "execution_count": null,
   "id": "44ea038e",
   "metadata": {},
   "outputs": [],
   "source": [
    "train_df, test_df = adult.randomSplit([0.8, 0.2], seed=4242)"
   ]
  },
  {
   "cell_type": "code",
   "execution_count": null,
   "id": "7669ec67",
   "metadata": {},
   "outputs": [],
   "source": [
    "from pyspark.ml import Pipeline"
   ]
  },
  {
   "cell_type": "code",
   "execution_count": null,
   "id": "7b7521cb",
   "metadata": {},
   "outputs": [],
   "source": [
    "pipe = Pipeline() \\\n",
    ".setStages([workclass_indexer, education_merged_indexer, marital_status_indexer, occupation_indexer,\n",
    "            relationship_indexer, race_indexer, native_country_indexer, encoder, assembler, label_indexer,\n",
    "            scaler, logreg_object])"
   ]
  },
  {
   "cell_type": "code",
   "execution_count": null,
   "id": "0fc12143",
   "metadata": {},
   "outputs": [],
   "source": [
    "model = pipe.fit(train_df)"
   ]
  },
  {
   "cell_type": "code",
   "execution_count": null,
   "id": "e027b7ad",
   "metadata": {},
   "outputs": [],
   "source": [
    "result = model.transform(test_df).select(\"label\", \"prediction\")\n",
    "result.limit(5).toPandas().head()"
   ]
  },
  {
   "cell_type": "code",
   "execution_count": null,
   "id": "1d1d2bc5",
   "metadata": {},
   "outputs": [],
   "source": [
    "from sklearn.metrics import accuracy_score"
   ]
  },
  {
   "cell_type": "code",
   "execution_count": null,
   "id": "baab18f2",
   "metadata": {},
   "outputs": [],
   "source": [
    "y_test = result.select(\"label\").toPandas()\n",
    "y_pred = result.select(\"prediction\").toPandas()"
   ]
  },
  {
   "cell_type": "code",
   "execution_count": null,
   "id": "2d1fe9b7",
   "metadata": {},
   "outputs": [],
   "source": [
    "accuracy_score(y_test, y_pred)"
   ]
  }
 ],
 "metadata": {
  "kernelspec": {
   "display_name": "Python 3 (ipykernel)",
   "language": "python",
   "name": "python3"
  },
  "language_info": {
   "codemirror_mode": {
    "name": "ipython",
    "version": 3
   },
   "file_extension": ".py",
   "mimetype": "text/x-python",
   "name": "python",
   "nbconvert_exporter": "python",
   "pygments_lexer": "ipython3",
   "version": "3.10.6"
  }
 },
 "nbformat": 4,
 "nbformat_minor": 5
}
